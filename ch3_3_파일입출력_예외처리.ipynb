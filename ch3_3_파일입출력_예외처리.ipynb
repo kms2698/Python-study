{
 "cells": [
  {
   "cell_type": "markdown",
   "id": "7e51cab0",
   "metadata": {},
   "source": [
    "# 파일 입출력 및 예외처리\n",
    "---\n",
    "\n",
    "## 파일 입/출력\n",
    "- open\n",
    "- 파일 입력\n",
    "- 파일 출력\n",
    "\n",
    "## 예외 처리\n",
    "- try...except\n",
    "- try...finally\n",
    "- with\n",
    "- raise\n",
    "\n",
    "---\n",
    "### file 클래스\n",
    "- 입/출력을 위해서 파일을 열고 사용하기 위해 생성\n",
    "- file 클래스의 객체 생성 후, 입/출력 관련 메소드를 적절히 활용하여 파일 입출력 작업 수행 가능\n",
    "- 파일을 열 때, 읽기 및 쓰기 모드 등의 지정이 가능\n",
    "- 파일 입/출력 작업을 모두 마친 후에는, close 메소드 호출을 통해 프로그램에 사용 종료를 알려주어야 함"
   ]
  },
  {
   "cell_type": "markdown",
   "id": "2889393c",
   "metadata": {},
   "source": [
    "### open : 입/출력이 가능하도록 파일을 열어줌\n",
    "- open(파일 경로, mode)\n",
    "- mode\n",
    "    - r : 읽기 모드, 파일이 존재하지 않을 시 Error\n",
    "    - w : 쓰기 모드, 파일이 존재하지 않을 시 새로 생성\n",
    "    - a : 덧붙임 모드, 파일이 존재하지 않을 시 새로 생성\n",
    "    - r+ : 읽기 또는 쓰기 모드, 파일이 존재하지 않을 시 Error\n",
    "    - w+ : 읽기 또는 쓰기 모드, 파일이 존재하지 않을 시 새로 생성\n",
    "    - a+ : 읽기 또는 덧붙임 모드, 파일이 존재하지 않을 시 새로 생성\n",
    "- 파일을 텍스트모드('t')/바이너리 모드('b')로 파일을 다룰 지 여부를 지정 가능\n",
    "- help(open)을 통해 여러 가지 다른 모드의 목록을 확인 가능"
   ]
  },
  {
   "cell_type": "markdown",
   "id": "06662942",
   "metadata": {},
   "source": [
    "### 파일 출력\n",
    "- write(\"출력할 문자열\")\n",
    "- write(\"요소 사이에 입력할 문자열\".join(리스트))"
   ]
  },
  {
   "cell_type": "code",
   "execution_count": 1,
   "id": "1b7a2941",
   "metadata": {},
   "outputs": [],
   "source": [
    "f = open('input.txt','w')\n",
    "f.write('Hello. python!\\n')\n",
    "f.close()\n",
    "\n",
    "input_list = ['Hanyang Univ', 'Computer', 'Cookie']\n",
    "f=open('input.txt','a')\n",
    "f.write('\\n'.join(input_list))\n",
    "f.close()"
   ]
  },
  {
   "cell_type": "markdown",
   "id": "56ed86f5",
   "metadata": {},
   "source": [
    "### 파일 입력\n",
    "- read()\n",
    "    - read 메소드를 사용할 시, 변수에는 전체 문자열이 반환됨"
   ]
  },
  {
   "cell_type": "code",
   "execution_count": 2,
   "id": "55f3a7a4",
   "metadata": {},
   "outputs": [
    {
     "name": "stdout",
     "output_type": "stream",
     "text": [
      "Hello. python!\n",
      "Hanyang Univ\n",
      "Computer\n",
      "Cookie\n"
     ]
    }
   ],
   "source": [
    "f = open('input.txt','r')\n",
    "str = f.read()\n",
    "print(str)\n",
    "f.close()"
   ]
  },
  {
   "cell_type": "markdown",
   "id": "0311a827",
   "metadata": {},
   "source": [
    "### 파일 입력\n",
    "- readline()\n",
    "    - 파일의 내용을 한 줄 씩 읽어옴\n",
    "    - 반복문, 조건문 등과 함께 주로 사용"
   ]
  },
  {
   "cell_type": "code",
   "execution_count": 3,
   "id": "6781380c",
   "metadata": {},
   "outputs": [
    {
     "name": "stdout",
     "output_type": "stream",
     "text": [
      "Hello. python!\n",
      "\n",
      "Hanyang Univ\n",
      "\n",
      "Computer\n",
      "\n",
      "Cookie\n"
     ]
    }
   ],
   "source": [
    "f = open('input.txt','r')\n",
    "while True:\n",
    "    line = f.readline()\n",
    "    if len(line) == 0:\n",
    "        break\n",
    "    print(line)\n",
    "f.close()"
   ]
  },
  {
   "cell_type": "markdown",
   "id": "3db0bec5",
   "metadata": {},
   "source": [
    "## Prcatice 1\n",
    "- 간단한 자기 소개 입력 프로그램 작성\n",
    "- 파일 입력 시 덧붙임 모드를 통해 기존의 파일 내용 유지\n",
    "- 입력은 목차와 내용 두가지를 입력, 목차에서 e를 입력할 때까지 반복해서 내용을 추가\n",
    "- 입력 작업이 모두 끝나면 안전하게 파일을 한번 닫은 후, 다시 열어서 입력된 내용을 출력"
   ]
  },
  {
   "cell_type": "code",
   "execution_count": 4,
   "id": "6ae96de4",
   "metadata": {},
   "outputs": [
    {
     "name": "stdout",
     "output_type": "stream",
     "text": [
      "item: (e: exit) Name\n",
      "Contents: KMS\n",
      "item: (e: exit) Age\n",
      "Contents: 25\n",
      "item: (e: exit) e\n",
      "* Name: KMS\n",
      "* Age: 25\n",
      "\n"
     ]
    }
   ],
   "source": [
    "f = open('practice1.txt','a')\n",
    "while True:\n",
    "    item = input('item: (e: exit) ')\n",
    "    if item == 'e':\n",
    "        break\n",
    "    else:\n",
    "        if(len(item)==0):\n",
    "            print(\"Wrong item!\")\n",
    "            continue\n",
    "        temp = '* '\n",
    "        temp += item\n",
    "        temp += ': '\n",
    "        contents = input('Contents: ')\n",
    "        if(len(item)==0):\n",
    "            print(\"Wrong item!\")\n",
    "            continue\n",
    "        else:\n",
    "            temp += contents\n",
    "        temp+='\\n'\n",
    "        f.write(temp)\n",
    "f.close()\n",
    "\n",
    "f=open('practice1.txt','r')\n",
    "str = f.read()\n",
    "print(str)\n",
    "f.close()"
   ]
  },
  {
   "cell_type": "markdown",
   "id": "d4da7954",
   "metadata": {},
   "source": [
    "## 예외란?\n",
    "- 프로그램 사용 시, 예기치 못한 상황 등으로 에러가 발생하는 경우\n",
    "    - 존재하지 않는 파일을 여는 경우(FileNotFoundError)\n",
    "    - 0으로 나누려고 하는 경우(ZeroDivisionError) 등\n",
    "- 프로그램 실행 도중에 에러가 발생하더라도, 예외를 무시하거나 따로 처리할 수 있는 예외 처리 지원\n",
    "- [표] 대표적인 예외\n",
    "|예외명|발생 예|\n",
    "|:---|:---|\n",
    "|SyntaxError|오타, 들여쓰기 실수 등|\n",
    "|NameError|존재하지 않는 변수 호출|\n",
    "|ZeroDivisionError|정수를 0으로 나눌 때|\n",
    "|IndexError|리스트의 인덱스를 잘못 참조할 때|\n",
    "|TypeError|정수를 문자로 나눌 때, type에 맞지 않는 연산 등|"
   ]
  },
  {
   "cell_type": "markdown",
   "id": "28c33a67",
   "metadata": {},
   "source": [
    "## try...except (..else)\n",
    "- try 블록 안에 일반 명령 작성\n",
    "- except 블록 안에 에외 상황에 해당하는 오류 핸들러 작성\n",
    "- else를 통해 에러가 발생하지 않을 시 수행할 작업을 작성 가능\n",
    "- try:\n",
    "\n",
    "    일반명령어\n",
    "    \n",
    "    ...\n",
    "    \n",
    "    except 발생 예외\n",
    "    \n",
    "      예외 처리시 수행\n",
    "      \n",
    "      ...\n",
    "      \n",
    "    else:\n",
    "    \n",
    "        정상 처리 시 수행\n",
    "    "
   ]
  },
  {
   "cell_type": "code",
   "execution_count": 10,
   "id": "a627dca9",
   "metadata": {},
   "outputs": [
    {
     "name": "stdout",
     "output_type": "stream",
     "text": [
      "Non-error\n",
      "6\n",
      "list index out of range\n"
     ]
    }
   ],
   "source": [
    "def calc(values):\n",
    "    sum = None\n",
    "    \n",
    "    try:\n",
    "        sum = values[0] + values[1] + values[2]\n",
    "    except Exception as e:\n",
    "        print(e)\n",
    "    except Exception:\n",
    "        print(str('Exception'))\n",
    "    else:\n",
    "        print('Non-error')\n",
    "        print(sum)\n",
    "        \n",
    "calc([1,2,3,6])\n",
    "calc([1,2])"
   ]
  },
  {
   "cell_type": "markdown",
   "id": "0e169786",
   "metadata": {},
   "source": [
    "### try...finally\n",
    "- 예외 발생 유무와 상관 없이 항상 수행할 작업을 작성하기 위해 finally블록을 사용\n",
    "- ex) 파일 입/출력 시 예외 발생으로 비정상 종료가 되더라도 항상 파일 객체를 닫아주고자 할 때"
   ]
  },
  {
   "cell_type": "code",
   "execution_count": 11,
   "id": "cccf9a5b",
   "metadata": {},
   "outputs": [
    {
     "name": "stdout",
     "output_type": "stream",
     "text": [
      "Non-error\n",
      "6\n",
      "Sum operation end\n",
      "list index out of range\n",
      "Sum operation end\n"
     ]
    }
   ],
   "source": [
    "def calc(values):\n",
    "    sum = None\n",
    "    \n",
    "    try:\n",
    "        sum = values[0] + values[1] + values[2]\n",
    "    except Exception as e:\n",
    "        print(e)\n",
    "    else:\n",
    "        print('Non-error')\n",
    "        print(sum)\n",
    "    finally:\n",
    "        print(\"Sum operation end\")\n",
    "        \n",
    "calc([1,2,3,6])\n",
    "calc([1,2])"
   ]
  },
  {
   "cell_type": "markdown",
   "id": "40240bca",
   "metadata": {},
   "source": [
    "### with\n",
    "- 해당 블록 종료 후 자동으로 파일을 닫게 해주는 것이 가능"
   ]
  },
  {
   "cell_type": "code",
   "execution_count": 20,
   "id": "225b0c20",
   "metadata": {},
   "outputs": [
    {
     "name": "stdout",
     "output_type": "stream",
     "text": [
      "Hello. python!\n",
      "\n"
     ]
    }
   ],
   "source": [
    "try:\n",
    "    f = open(\"input.txt\",\"r\")\n",
    "    try:\n",
    "        lines = f.readline()\n",
    "        print(lines)\n",
    "    finally:\n",
    "        f.close()\n",
    "except IOError:\n",
    "    print('file error!')"
   ]
  },
  {
   "cell_type": "markdown",
   "id": "3b36ac45",
   "metadata": {},
   "source": [
    "### raise\n",
    "- 사용자의 필요에 따라 예외를 직접 발생시킬 수 있음\n",
    "- 발생시킬 수 있는 오류나 예외는 직간접적으로 Exception 클래스에서 파생된 클래스만 가능"
   ]
  },
  {
   "cell_type": "code",
   "execution_count": 21,
   "id": "0292f50d",
   "metadata": {},
   "outputs": [
    {
     "name": "stdout",
     "output_type": "stream",
     "text": [
      "Before raise\n",
      "Error!!!\n"
     ]
    }
   ],
   "source": [
    "try:\n",
    "    print('Before raise')\n",
    "    raise NameError('NameError')\n",
    "    print('After raise')\n",
    "except NameError:\n",
    "    print('Error!!!')"
   ]
  },
  {
   "cell_type": "markdown",
   "id": "8a87ea56",
   "metadata": {},
   "source": [
    "raise 함수로 인해 NameError 가 발생하여 except블록으로 넘어갔기 때문에 출력되지 않음"
   ]
  },
  {
   "cell_type": "markdown",
   "id": "ba793bcb",
   "metadata": {},
   "source": [
    "## Practice2\n",
    "리스트 탐색"
   ]
  },
  {
   "cell_type": "code",
   "execution_count": 24,
   "id": "d52e1d7c",
   "metadata": {},
   "outputs": [
    {
     "name": "stdout",
     "output_type": "stream",
     "text": [
      "Select an address : \n",
      "10\n",
      "Exception (list index out of range)\n",
      "finish\n"
     ]
    }
   ],
   "source": [
    "fruitArr = [\"사과\",\"바나나\",\"토마토\"]\n",
    "\n",
    "try:\n",
    "    print(\"Select an address : \")\n",
    "    index = int(input())\n",
    "    print(\"{0}'s fruit : {1}\".format(index, fruitArr[index-1]))\n",
    "          \n",
    "except Exception as err:\n",
    "    print(\"Exception ({0})\".format(err))\n",
    "\n",
    "else:\n",
    "    print(\"Success\")\n",
    "finally:\n",
    "    print(\"finish\")"
   ]
  },
  {
   "cell_type": "code",
   "execution_count": null,
   "id": "f113f1f3",
   "metadata": {},
   "outputs": [],
   "source": []
  }
 ],
 "metadata": {
  "kernelspec": {
   "display_name": "Python 3",
   "language": "python",
   "name": "python3"
  },
  "language_info": {
   "codemirror_mode": {
    "name": "ipython",
    "version": 3
   },
   "file_extension": ".py",
   "mimetype": "text/x-python",
   "name": "python",
   "nbconvert_exporter": "python",
   "pygments_lexer": "ipython3",
   "version": "3.9.2"
  }
 },
 "nbformat": 4,
 "nbformat_minor": 5
}

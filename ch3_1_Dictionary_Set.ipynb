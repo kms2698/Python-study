{
 "cells": [
  {
   "cell_type": "markdown",
   "id": "f3408409",
   "metadata": {},
   "source": [
    "# Dictionary & Set\n",
    "---\n",
    "## Index\n",
    "- Dictionary\n",
    "    - Dictionary example\n",
    "- Set\n",
    "    - Set example\n",
    "- Practice1\n",
    "- Practice2"
   ]
  },
  {
   "cell_type": "markdown",
   "id": "0739e2f4",
   "metadata": {},
   "source": [
    "---\n",
    "## Dictionary\n",
    "- 영한사전에서 영어 단어와 그 의미가 쌍을 이루듯 키와 값이 쌍을 이뤄 저장된 자료형\n",
    "- 키를 이용하여 저장된 값을 찾으며 키는 사전에서 유일한 값\n",
    "- dic = {key1:value, key2:value2} 같이 저장"
   ]
  },
  {
   "cell_type": "code",
   "execution_count": 1,
   "id": "6dbb435c",
   "metadata": {},
   "outputs": [],
   "source": [
    "ab = {1:'a',2:'b',3:'c'}"
   ]
  },
  {
   "cell_type": "code",
   "execution_count": 2,
   "id": "e4d5bf5f",
   "metadata": {},
   "outputs": [
    {
     "name": "stdout",
     "output_type": "stream",
     "text": [
      "{1: 'a', 2: 'b', 3: 'c'}\n",
      "Number of elements in the ab is 3\n"
     ]
    }
   ],
   "source": [
    "print(ab)\n",
    "print(\"Number of elements in the ab is\", len(ab))"
   ]
  },
  {
   "cell_type": "markdown",
   "id": "0e3cc206",
   "metadata": {},
   "source": [
    "- 사전 연산\n",
    "    - 사전 인덱스로 항목 추가\n",
    "    - key 값과 value값이 서로 다른형태로 들어갈수있음"
   ]
  },
  {
   "cell_type": "code",
   "execution_count": 3,
   "id": "12d73bef",
   "metadata": {
    "scrolled": true
   },
   "outputs": [
    {
     "name": "stdout",
     "output_type": "stream",
     "text": [
      "dictionary : {1: 'a', 2: 'b', 3: 'c', 4: 'd'}\n"
     ]
    }
   ],
   "source": [
    "ab[4] = 'd'\n",
    "print(\"dictionary :\", ab)"
   ]
  },
  {
   "cell_type": "code",
   "execution_count": 4,
   "id": "4d76d4db",
   "metadata": {},
   "outputs": [
    {
     "name": "stdout",
     "output_type": "stream",
     "text": [
      "Added dictionary is now {1: 'a', 2: 'b', 3: 'c', 4: 'd', 'name': 'Minsang'}\n"
     ]
    }
   ],
   "source": [
    "ab['name'] = 'Minsang'\n",
    "print(\"Added dictionary is now\",ab)"
   ]
  },
  {
   "cell_type": "code",
   "execution_count": 5,
   "id": "57e77cb1",
   "metadata": {},
   "outputs": [
    {
     "name": "stdout",
     "output_type": "stream",
     "text": [
      "{1: 'a', 2: 'b', 3: 'c', 4: 'd', 'name': 'Minsang', 'list': [1, 2, 3]}\n"
     ]
    }
   ],
   "source": [
    "ab['list'] = [1,2,3]\n",
    "print(ab)"
   ]
  },
  {
   "cell_type": "markdown",
   "id": "180846b6",
   "metadata": {},
   "source": [
    "|연산자|기능|사용예|\n",
    "|:---:|:---:|:---:|\n",
    "|get(var)|항목 찾기|dictionary.get(key)|\n",
    "|del|항목삭제|del dictionary[key]|\n",
    "|keys()|key들의 리스트 획득|dictionary.keys()|\n",
    "|values()|value들의 리스트 획득|dictionary.values()|\n",
    "|items()|key-value쌍들의 리스트 획득|dictionary.items()|"
   ]
  },
  {
   "cell_type": "code",
   "execution_count": 9,
   "id": "e85cdc55",
   "metadata": {},
   "outputs": [
    {
     "name": "stdout",
     "output_type": "stream",
     "text": [
      "{1: 'a', 3: 'c'}\n"
     ]
    }
   ],
   "source": [
    "ab = {1:'a',2:'b',3:'c'}\n",
    "\n",
    "#del로 항목 삭제\n",
    "del ab[2]\n",
    "print(ab)"
   ]
  },
  {
   "cell_type": "code",
   "execution_count": 10,
   "id": "01932a0a",
   "metadata": {},
   "outputs": [
    {
     "name": "stdout",
     "output_type": "stream",
     "text": [
      "a\n"
     ]
    }
   ],
   "source": [
    "#[index]로 항목찾기\n",
    "print(ab[1])"
   ]
  },
  {
   "cell_type": "code",
   "execution_count": 11,
   "id": "3e4ecd23",
   "metadata": {},
   "outputs": [
    {
     "name": "stdout",
     "output_type": "stream",
     "text": [
      "a\n"
     ]
    }
   ],
   "source": [
    "#get()로 항목찾기\n",
    "print(ab.get(1))"
   ]
  },
  {
   "cell_type": "code",
   "execution_count": 12,
   "id": "56df1381",
   "metadata": {},
   "outputs": [],
   "source": [
    "# 예제를 위한 추가\n",
    "ab[2] = 'b'"
   ]
  },
  {
   "cell_type": "code",
   "execution_count": 15,
   "id": "643b5956",
   "metadata": {},
   "outputs": [
    {
     "name": "stdout",
     "output_type": "stream",
     "text": [
      "dict_keys([1, 3, 2])\n",
      "dict_values(['a', 'c', 'b'])\n",
      "dict_items([(1, 'a'), (3, 'c'), (2, 'b')])\n"
     ]
    }
   ],
   "source": [
    "#사전 key 리스트\n",
    "print(ab.keys())\n",
    "#사전 value 리스트\n",
    "print(ab.values())\n",
    "# 사전 key, value 리스트\n",
    "print(ab.items())"
   ]
  },
  {
   "cell_type": "code",
   "execution_count": 16,
   "id": "349ea2ce",
   "metadata": {},
   "outputs": [
    {
     "name": "stdout",
     "output_type": "stream",
     "text": [
      "True\n",
      "False\n"
     ]
    }
   ],
   "source": [
    "# key가 사전에 있는지 찾기\n",
    "print(bool(1 in ab))\n",
    "print(bool(4 in ab))"
   ]
  },
  {
   "cell_type": "markdown",
   "id": "92f1d331",
   "metadata": {},
   "source": [
    "---\n",
    "## Set\n",
    "- 정렬되지 않고 중복되지 않은 단순 객체의 묶음\n",
    "- 집합의 부분집합 관계 혹은 집합들의 교집합 등 집합연산 가능"
   ]
  },
  {
   "cell_type": "code",
   "execution_count": 18,
   "id": "7c61f1d6",
   "metadata": {},
   "outputs": [
    {
     "name": "stdout",
     "output_type": "stream",
     "text": [
      "{'a', 'r', 'o', 'K', 'e'}\n",
      "{'China', 'Korea', 'Japan'}\n",
      "# of elements in the nation is 5\n",
      "# of elements in the nations is 3\n"
     ]
    }
   ],
   "source": [
    "nation = set('Korea') #set->형변환연산\n",
    "nations = set(['Korea', 'Japan','China'])\n",
    "\n",
    "print(nation)\n",
    "print(nations)\n",
    "print('# of elements in the nation is', len(nation))\n",
    "print('# of elements in the nations is', len(nations))"
   ]
  },
  {
   "cell_type": "code",
   "execution_count": 19,
   "id": "33eaced2",
   "metadata": {},
   "outputs": [
    {
     "name": "stdout",
     "output_type": "stream",
     "text": [
      "True\n",
      "False\n"
     ]
    }
   ],
   "source": [
    "# 항목의 존재 유무\n",
    "print('Korea' in nations)\n",
    "print('USA' in nations)"
   ]
  },
  {
   "cell_type": "code",
   "execution_count": 20,
   "id": "c20b8448",
   "metadata": {},
   "outputs": [
    {
     "name": "stdout",
     "output_type": "stream",
     "text": [
      "{'China', 'Korea', 'Japan'}\n"
     ]
    }
   ],
   "source": [
    "# 집합 복사\n",
    "nations2 = nations.copy()\n",
    "print(nations)"
   ]
  },
  {
   "cell_type": "code",
   "execution_count": 21,
   "id": "a848f0cf",
   "metadata": {},
   "outputs": [
    {
     "name": "stdout",
     "output_type": "stream",
     "text": [
      "{'China', 'Korea', 'USA', 'Japan'}\n"
     ]
    }
   ],
   "source": [
    "# 항목 추가\n",
    "nations2.add(\"USA\")\n",
    "print(nations2)"
   ]
  },
  {
   "cell_type": "markdown",
   "id": "956e2483",
   "metadata": {},
   "source": [
    "- 집합 연산\n",
    "|연산자|기능|사용예|\n",
    "|:---:|:---:|:---:|\n",
    "|add(var)|항목 추가|set.add(item)|\n",
    "|update(var)|여러 항목 한번에 추가|set.update(list)|\n",
    "|copy()|집합 복사|set1.copy(set2)|\n",
    "|remove(var)|항목 제거|set.remove(item)|\n",
    "|union(var)|합집합(set1ㅣset2)|set1.union(set2)|\n",
    "|difference(var)|차집합(set1-set2)|set1.difference(set2)|\n",
    "|intersection(var)|교집합(set1&set2)|set1.intersection(set2)|\n",
    "이외에 여러가지가 있음"
   ]
  },
  {
   "cell_type": "markdown",
   "id": "ae750e0e",
   "metadata": {},
   "source": [
    "- 합집합, 차집합"
   ]
  },
  {
   "cell_type": "code",
   "execution_count": 23,
   "id": "df717874",
   "metadata": {},
   "outputs": [
    {
     "name": "stdout",
     "output_type": "stream",
     "text": [
      "{1, 2, 3, 4, 5, 6, 7, 8, 9}\n",
      "{1, 2, 3, 4, 5, 6, 7, 8, 9}\n"
     ]
    }
   ],
   "source": [
    "s1 = set([1,2,3,4,5,6])\n",
    "s2 = set([4,5,6,7,8,9])\n",
    "\n",
    "# 합집합\n",
    "print(s1 | s2)\n",
    "print(s1.union(s2))"
   ]
  },
  {
   "cell_type": "code",
   "execution_count": 24,
   "id": "06c08663",
   "metadata": {},
   "outputs": [
    {
     "name": "stdout",
     "output_type": "stream",
     "text": [
      "{1, 2, 3}\n",
      "{1, 2, 3}\n"
     ]
    }
   ],
   "source": [
    "# 차집합\n",
    "print(s1 - s2)\n",
    "print(s1.difference(s2))"
   ]
  },
  {
   "cell_type": "markdown",
   "id": "569449f9",
   "metadata": {},
   "source": [
    "- 교집합, update()"
   ]
  },
  {
   "cell_type": "code",
   "execution_count": 25,
   "id": "1c8d5023",
   "metadata": {},
   "outputs": [
    {
     "name": "stdout",
     "output_type": "stream",
     "text": [
      "{4, 5, 6}\n",
      "{4, 5, 6}\n"
     ]
    }
   ],
   "source": [
    "# 교집합\n",
    "print(s1&s2)\n",
    "print(s1.intersection(s2))"
   ]
  },
  {
   "cell_type": "code",
   "execution_count": 26,
   "id": "1fc84bf9",
   "metadata": {},
   "outputs": [
    {
     "name": "stdout",
     "output_type": "stream",
     "text": [
      "{1, 2, 4, 5, 6, 7, 8, 9}\n"
     ]
    }
   ],
   "source": [
    "# update()로 항목 추가\n",
    "s2.update([1,2])\n",
    "print(s2)"
   ]
  },
  {
   "cell_type": "markdown",
   "id": "edfce909",
   "metadata": {},
   "source": [
    "---\n",
    "## Practice 1\n",
    "- Using Dictionary to make Phone book\n",
    "    - 이름을 키로, 전화번호를 값으로 하는 사전\n",
    "    - 전화번호부에 새로운 연락처 추가가 자유로움\n",
    "    - 이름을 사용해서 검색하거나 연락처 삭제 가능\n",
    "    - 1은 추가, 2는 거색, 3은 삭제, 4는 종료 기능"
   ]
  },
  {
   "cell_type": "code",
   "execution_count": 33,
   "id": "212a1078",
   "metadata": {},
   "outputs": [],
   "source": [
    "dic = {}\n",
    "def phonebook():\n",
    "    while(True):\n",
    "        print(\"1: add, 2: search, 3. delete, 4.quit\")\n",
    "        print(\"enter only number\")\n",
    "        n = int(input())\n",
    "        if n == 4:\n",
    "            break;\n",
    "        else:\n",
    "            if n == 1:\n",
    "                key = input(\"type name \")\n",
    "                val = input(\"type phone number \")\n",
    "                dic[key] = val\n",
    "            elif n == 2:\n",
    "                key = input(\"type name \")\n",
    "                print(\"name: \",key,\"number: \",dic[key])\n",
    "            elif n == 3:\n",
    "                key = input(\"type name \")\n",
    "                del dic[key]\n",
    "                print(\"name:\",key,\" is deleted.\")"
   ]
  },
  {
   "cell_type": "code",
   "execution_count": 34,
   "id": "28fb7a8d",
   "metadata": {},
   "outputs": [
    {
     "name": "stdout",
     "output_type": "stream",
     "text": [
      "1: add, 2: search, 3. delete, 4.quit\n",
      "enter only number\n",
      "1\n",
      "type name db\n",
      "type phone number 010-1234-5678\n",
      "1: add, 2: search, 3. delete, 4.quit\n",
      "enter only number\n",
      "1\n",
      "type name max\n",
      "type phone number 010-2222-5678\n",
      "1: add, 2: search, 3. delete, 4.quit\n",
      "enter only number\n",
      "1\n",
      "type name min\n",
      "type phone number 010-2423-3344\n",
      "1: add, 2: search, 3. delete, 4.quit\n",
      "enter only number\n",
      "2\n",
      "type name db\n",
      "name:  db number:  010-1234-5678\n",
      "1: add, 2: search, 3. delete, 4.quit\n",
      "enter only number\n",
      "2\n",
      "type name min\n",
      "name:  min number:  010-2423-3344\n",
      "1: add, 2: search, 3. delete, 4.quit\n",
      "enter only number\n",
      "3\n",
      "type name min\n",
      "name: min  is deleted.\n",
      "1: add, 2: search, 3. delete, 4.quit\n",
      "enter only number\n",
      "4\n"
     ]
    }
   ],
   "source": [
    "phonebook()"
   ]
  },
  {
   "cell_type": "code",
   "execution_count": 35,
   "id": "871f9246",
   "metadata": {},
   "outputs": [
    {
     "data": {
      "text/plain": [
       "{'db': '010-1234-5678', 'max': '010-2222-5678'}"
      ]
     },
     "execution_count": 35,
     "metadata": {},
     "output_type": "execute_result"
    }
   ],
   "source": [
    "dic"
   ]
  },
  {
   "cell_type": "markdown",
   "id": "ddd73d88",
   "metadata": {},
   "source": [
    "---\n",
    "## Practice2\n",
    "- Use Set to make Set Calculator\n",
    "    - 집합은 두개만 존재\n",
    "    - 집합은 직접 입력\n",
    "    - 합집합, 차집합, 교집합 계산기"
   ]
  },
  {
   "cell_type": "code",
   "execution_count": 36,
   "id": "f69c2d3e",
   "metadata": {},
   "outputs": [],
   "source": [
    "def setcal():\n",
    "    while(True):\n",
    "        print(\"1: |, 2: -, 3: &, 4: quit\")\n",
    "        print(\"enter only number\")\n",
    "        n = int(input())\n",
    "        if n == 4:\n",
    "            break\n",
    "        print(\"type number of elements in set1\")\n",
    "        n1 = int(input())\n",
    "        s1 = set([])\n",
    "        for i in range(n1):\n",
    "            print(\"type element\")\n",
    "            e1 = int(input())\n",
    "            s1.add(e1)\n",
    "        print(\"type number of elements in set2\")    \n",
    "        n2 = int(input())\n",
    "        s2 = set([])\n",
    "        for i in range(n2):\n",
    "            print(\"type element\")\n",
    "            e2 = int(input())\n",
    "            s2.add(e2)\n",
    "        if n == 1:\n",
    "            print(s1|s2)\n",
    "        elif n == 2:\n",
    "            print(s1-s2)\n",
    "        elif n == 3:\n",
    "            print(s1&s2)"
   ]
  },
  {
   "cell_type": "code",
   "execution_count": 38,
   "id": "6c21a5bb",
   "metadata": {},
   "outputs": [
    {
     "name": "stdout",
     "output_type": "stream",
     "text": [
      "1: |, 2: -, 3: &, 4: quit\n",
      "enter only number\n",
      "3\n",
      "type number of elements in set1\n",
      "3\n",
      "type element\n",
      "1\n",
      "type element\n",
      "2\n",
      "type element\n",
      "3\n",
      "type number of elements in set2\n",
      "2\n",
      "type element\n",
      "1\n",
      "type element\n",
      "2\n",
      "{1, 2}\n",
      "1: |, 2: -, 3: &, 4: quit\n",
      "enter only number\n",
      "4\n"
     ]
    }
   ],
   "source": [
    "setcal()"
   ]
  }
 ],
 "metadata": {
  "kernelspec": {
   "display_name": "Python 3",
   "language": "python",
   "name": "python3"
  },
  "language_info": {
   "codemirror_mode": {
    "name": "ipython",
    "version": 3
   },
   "file_extension": ".py",
   "mimetype": "text/x-python",
   "name": "python",
   "nbconvert_exporter": "python",
   "pygments_lexer": "ipython3",
   "version": "3.9.2"
  }
 },
 "nbformat": 4,
 "nbformat_minor": 5
}

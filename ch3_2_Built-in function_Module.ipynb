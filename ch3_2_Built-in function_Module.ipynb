{
 "cells": [
  {
   "cell_type": "markdown",
   "id": "80e5fc02",
   "metadata": {},
   "source": [
    "# Built-in function\n",
    "\n",
    "---\n",
    "\n",
    "What is Built-in funcion?\n",
    "- 개발자의 편의를 위해 파이썬이 제공하는 기본 함수\n",
    "- import할 필요 없이 바로 사용 가능\n",
    "- 일종의 키워드로 간주하여야 하며, 내장 함수와 같은 이름으로 변수명, 함수명을 지정하는 것을 피할것\n",
    "---\n",
    "## - abs()\n",
    "    - 절대 값을 반환하는 함수"
   ]
  },
  {
   "cell_type": "code",
   "execution_count": 1,
   "id": "ceb65297",
   "metadata": {},
   "outputs": [
    {
     "name": "stdout",
     "output_type": "stream",
     "text": [
      "7\n"
     ]
    }
   ],
   "source": [
    "num1 = abs(-3)\n",
    "num2 = abs(-4)\n",
    "print(num1+num2)"
   ]
  },
  {
   "cell_type": "markdown",
   "id": "c92811ce",
   "metadata": {},
   "source": [
    "## - bool()\n",
    "    - true/false 를 반환하는 함수\n",
    "    - 0이 아닌 모든 수는 true\n",
    "    - 문자열의 경우엔 값이 없을 경우 false"
   ]
  },
  {
   "cell_type": "code",
   "execution_count": 2,
   "id": "88c8050f",
   "metadata": {},
   "outputs": [
    {
     "name": "stdout",
     "output_type": "stream",
     "text": [
      "--Numeric--\n",
      "True\n",
      "True\n",
      "True\n",
      "False\n",
      "--String--\n",
      "True\n",
      "True\n",
      "False\n"
     ]
    }
   ],
   "source": [
    "print(\"--Numeric--\")\n",
    "print(bool(1))\n",
    "print(bool(0.1))\n",
    "print(bool(-500))\n",
    "print(bool(0))\n",
    "print(\"--String--\")\n",
    "print(bool(' '))\n",
    "print(bool('a'))\n",
    "print(bool(''))"
   ]
  },
  {
   "cell_type": "markdown",
   "id": "4f397098",
   "metadata": {},
   "source": [
    "## - dir()\n",
    "    - 객체 자체적으로 가지고 있는 변수, 함수를 리턴\n",
    "    - 예제의 경우 리스트와 정수 객체의 관련 함수 리턴\n",
    "    "
   ]
  },
  {
   "cell_type": "code",
   "execution_count": 3,
   "id": "1d6abfbb",
   "metadata": {},
   "outputs": [
    {
     "name": "stdout",
     "output_type": "stream",
     "text": [
      "['__add__', '__class__', '__class_getitem__', '__contains__', '__delattr__', '__delitem__', '__dir__', '__doc__', '__eq__', '__format__', '__ge__', '__getattribute__', '__getitem__', '__gt__', '__hash__', '__iadd__', '__imul__', '__init__', '__init_subclass__', '__iter__', '__le__', '__len__', '__lt__', '__mul__', '__ne__', '__new__', '__reduce__', '__reduce_ex__', '__repr__', '__reversed__', '__rmul__', '__setattr__', '__setitem__', '__sizeof__', '__str__', '__subclasshook__', 'append', 'clear', 'copy', 'count', 'extend', 'index', 'insert', 'pop', 'remove', 'reverse', 'sort']\n",
      "['__abs__', '__add__', '__and__', '__bool__', '__ceil__', '__class__', '__delattr__', '__dir__', '__divmod__', '__doc__', '__eq__', '__float__', '__floor__', '__floordiv__', '__format__', '__ge__', '__getattribute__', '__getnewargs__', '__gt__', '__hash__', '__index__', '__init__', '__init_subclass__', '__int__', '__invert__', '__le__', '__lshift__', '__lt__', '__mod__', '__mul__', '__ne__', '__neg__', '__new__', '__or__', '__pos__', '__pow__', '__radd__', '__rand__', '__rdivmod__', '__reduce__', '__reduce_ex__', '__repr__', '__rfloordiv__', '__rlshift__', '__rmod__', '__rmul__', '__ror__', '__round__', '__rpow__', '__rrshift__', '__rshift__', '__rsub__', '__rtruediv__', '__rxor__', '__setattr__', '__sizeof__', '__str__', '__sub__', '__subclasshook__', '__truediv__', '__trunc__', '__xor__', 'as_integer_ratio', 'bit_length', 'conjugate', 'denominator', 'from_bytes', 'imag', 'numerator', 'real', 'to_bytes']\n"
     ]
    }
   ],
   "source": [
    "print(dir(['a','short','list']))\n",
    "print(dir(1))"
   ]
  },
  {
   "cell_type": "markdown",
   "id": "8b3e216e",
   "metadata": {},
   "source": [
    "## - filter( , )\n",
    "    - 첫 번째 인수로 함수이름, 두 번째 인수로는 그 함수에 들어갈 반복가능한 자료형을 받음\n",
    "    - 반복가능한 자료형 내의 각각의 요소가 함수에 입력 되었을 때 참인 요소들만 걸러 리턴"
   ]
  },
  {
   "cell_type": "code",
   "execution_count": 4,
   "id": "e6b34a03",
   "metadata": {},
   "outputs": [
    {
     "name": "stdout",
     "output_type": "stream",
     "text": [
      "[1, 2, 4, 5]\n"
     ]
    }
   ],
   "source": [
    "def positive(x):\n",
    "    return x>0\n",
    "\n",
    "print(list(filter(positive,[1,-1,2,-3,4,5,-6])))"
   ]
  },
  {
   "cell_type": "markdown",
   "id": "c2d689ba",
   "metadata": {},
   "source": [
    "## - lambda( , ... , : )\n",
    "    - 간단한 함수를 정의할 때 사용\n",
    "    - def를 사용할 정도로 복잡하지 않을 경우 사용\n",
    "    - 인수를 받아 식을 실행 ex) lambda(a,b,c : a+b+c)"
   ]
  },
  {
   "cell_type": "code",
   "execution_count": 5,
   "id": "32d35286",
   "metadata": {},
   "outputs": [
    {
     "name": "stdout",
     "output_type": "stream",
     "text": [
      "600\n",
      "1200\n"
     ]
    }
   ],
   "source": [
    "def func1(a,b): # func1 -> 함수명\n",
    "    return a*b\n",
    "print(func1(20,30))\n",
    "\n",
    "sum = lambda x,y:x*y # sum -> 변수\n",
    "print(sum(30,40))"
   ]
  },
  {
   "cell_type": "markdown",
   "id": "64883da7",
   "metadata": {},
   "source": [
    "    - 람다 함수의 응용\n",
    "    - 리스트에 람다 함수를 정의해두고, 함수 리스트로 사용"
   ]
  },
  {
   "cell_type": "code",
   "execution_count": 6,
   "id": "3e11464a",
   "metadata": {},
   "outputs": [
    {
     "name": "stdout",
     "output_type": "stream",
     "text": [
      "15\n",
      "5\n",
      "50\n",
      "[<function <lambda> at 0x103754700>, <function <lambda> at 0x103754790>, <function <lambda> at 0x103754820>]\n"
     ]
    }
   ],
   "source": [
    "mylist = [lambda a,b:a+b, lambda a,b:a-b, lambda a,b:a*b]\n",
    "num1 = 10\n",
    "num2 = 5\n",
    "print(mylist[0](num1,num2))\n",
    "print(mylist[1](num1,num2))\n",
    "print(mylist[2](num1,num2))\n",
    "print(mylist)"
   ]
  },
  {
   "cell_type": "markdown",
   "id": "971d900e",
   "metadata": {},
   "source": [
    "mylist 안에는 함수가 정의되어 있는 메모리 주소 값이 저장되어 있음!"
   ]
  },
  {
   "cell_type": "markdown",
   "id": "eeab2d16",
   "metadata": {},
   "source": [
    "# Module \n",
    "---\n",
    "## - What is module?\n",
    "    - 함수, 변수 또는 클래스를 기능별로 모아둔 파일\n",
    "    - 필요에 따라 불러와 코드의 재사용성을 높임\n",
    "    - import 명령어를 통해 파일 로드\n",
    "## - 모듈화 하는 이유\n",
    "    - 기능별로 모듈화 하여 코드의 재사용성을 높여 유지/보수에 편리\n",
    "## - 종류\n",
    "    - 내장 모듈: os, system, time, random 등 [모듈](https://docs.python.org/ko/3/tutorial/modules.html)\n",
    "    - 사용자 정의 모듈\n",
    "    \n",
    "### - Random 모듈: 임의의 숫자를 생성"
   ]
  },
  {
   "cell_type": "code",
   "execution_count": 7,
   "id": "bf64bc83",
   "metadata": {},
   "outputs": [
    {
     "name": "stdout",
     "output_type": "stream",
     "text": [
      "6\n",
      "4\n",
      "2\n",
      "6\n"
     ]
    }
   ],
   "source": [
    "import random\n",
    "random.randint(1,6) # 1에서 6사이의 임의의 정수 값 생성\n",
    "\n",
    "print(random.randint(1,6))\n",
    "print(random.randint(1,6))\n",
    "print(random.randint(1,6))\n",
    "print(random.randint(1,6))"
   ]
  },
  {
   "cell_type": "markdown",
   "id": "4e738dfb",
   "metadata": {},
   "source": [
    "## - time 모듈\n",
    "    - time(): 1970년 1월 1일 0시 0분 0초 기준 초단위로 지난 현재시간 반환\n",
    "    - ctime(): 현재 시간을 사람이 보기 쉽게 문자열로 반환"
   ]
  },
  {
   "cell_type": "code",
   "execution_count": 8,
   "id": "4ea295bd",
   "metadata": {},
   "outputs": [
    {
     "name": "stdout",
     "output_type": "stream",
     "text": [
      "1619978771.329014\n",
      "Mon May  3 03:06:11 2021\n"
     ]
    }
   ],
   "source": [
    "import time\n",
    "print(time.time())\n",
    "print(time.ctime())"
   ]
  },
  {
   "cell_type": "markdown",
   "id": "af1ae2b7",
   "metadata": {},
   "source": [
    "    - ctime()을 이용해 현재 년도, 요일 가져오기\n",
    "    - ctime()의 반환 값인 문자열을 공백(' ')으로 split 한 뒤 원하는 값을 가져옴"
   ]
  },
  {
   "cell_type": "code",
   "execution_count": 9,
   "id": "3d68452f",
   "metadata": {},
   "outputs": [
    {
     "name": "stdout",
     "output_type": "stream",
     "text": [
      "2021\n",
      "Mon\n"
     ]
    }
   ],
   "source": [
    "cur_time = time.ctime()\n",
    "year = cur_time.split(\" \")[-1]\n",
    "date = cur_time.split(\" \")[0]\n",
    "print(year)\n",
    "print(date)"
   ]
  },
  {
   "cell_type": "markdown",
   "id": "4907f541",
   "metadata": {},
   "source": [
    "## - 사용자 정의 모듈\n",
    "    - 사용자가 필요한 함수, 클래스 및 변수를 저장한 모듈 생성 가능\n",
    "    - 파일명.py로 저장됨\n",
    "    - import 명령어를 통해 로드 가능"
   ]
  },
  {
   "cell_type": "markdown",
   "id": "5b55a859",
   "metadata": {},
   "source": [
    "## Practice\n",
    "- 다음 List의 양수의 평균과 음수의 평균을 구하라\n",
    "    - [-10, -2, 3, 50, 255, 203, -203, 400, -354, 5032, -3005]\n",
    "    - main.py와 average.py두개의 모듈을 생성\n",
    "    - average.py 모듈 안에 find_average 함수를 정의하여 평균을 구할것\n",
    "    - filter, lambda 함수를 이용해 poslist/neglist를 정의 할 것\n"
   ]
  },
  {
   "cell_type": "code",
   "execution_count": 17,
   "id": "1443ef4f",
   "metadata": {},
   "outputs": [],
   "source": [
    "# average.py\n",
    "def find_average(l):\n",
    "    avg = 0\n",
    "    cnt = 0\n",
    "    cnt = len(l)\n",
    "    for i in range(cnt):\n",
    "        avg += l[i]\n",
    "    return avg/cnt"
   ]
  },
  {
   "cell_type": "code",
   "execution_count": 19,
   "id": "12bc33c0",
   "metadata": {
    "scrolled": true
   },
   "outputs": [
    {
     "name": "stdout",
     "output_type": "stream",
     "text": [
      "[3, 50, 255, 203, 400, 5032]\n",
      "990.5\n",
      "[-10, -2, -203, -354, -3005]\n",
      "-714.8\n"
     ]
    }
   ],
   "source": [
    "# main.py\n",
    "question = [-10, -2, 3, 50, 255, 203, -203, 400, -354, 5032, -3005]\n",
    "\n",
    "poslist = list(filter(lambda x:x>0, question))\n",
    "neglist = list(filter(lambda x:x<0, question))\n",
    "\n",
    "print(poslist)\n",
    "print(find_average(poslist))\n",
    "\n",
    "print(neglist)\n",
    "print(find_average(neglist))"
   ]
  }
 ],
 "metadata": {
  "kernelspec": {
   "display_name": "Python 3",
   "language": "python",
   "name": "python3"
  },
  "language_info": {
   "codemirror_mode": {
    "name": "ipython",
    "version": 3
   },
   "file_extension": ".py",
   "mimetype": "text/x-python",
   "name": "python",
   "nbconvert_exporter": "python",
   "pygments_lexer": "ipython3",
   "version": "3.9.2"
  }
 },
 "nbformat": 4,
 "nbformat_minor": 5
}
